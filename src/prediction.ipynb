{
 "cells": [
  {
   "cell_type": "code",
   "execution_count": 1,
   "id": "7ab7970d-0656-4554-82f8-caa43b0414d2",
   "metadata": {},
   "outputs": [],
   "source": [
    "import numpy as np\n",
    "import pandas as pd\n",
    "from multilayerPerceptron import MultilayerPerceptron, Layer\n",
    "import random"
   ]
  },
  {
   "cell_type": "code",
   "execution_count": 3,
   "id": "c7f6e109-05e0-49d3-ab21-04ac1aacffd6",
   "metadata": {},
   "outputs": [],
   "source": [
    "df = pd.read_csv(\"../resources/data.csv\")"
   ]
  },
  {
   "cell_type": "code",
   "execution_count": 5,
   "id": "c409e8f6-078c-4549-8807-ae91d8fcf5b0",
   "metadata": {},
   "outputs": [
    {
     "data": {
      "text/plain": [
       "0      M\n",
       "1      M\n",
       "2      M\n",
       "3      M\n",
       "4      M\n",
       "      ..\n",
       "563    M\n",
       "564    M\n",
       "565    M\n",
       "566    M\n",
       "567    B\n",
       "Name: M, Length: 568, dtype: object"
      ]
     },
     "execution_count": 5,
     "metadata": {},
     "output_type": "execute_result"
    }
   ],
   "source": [
    "df['M']"
   ]
  },
  {
   "cell_type": "code",
   "execution_count": 3,
   "id": "32a7720f-cacc-44f8-9bdb-b83d47cce191",
   "metadata": {},
   "outputs": [
    {
     "name": "stdout",
     "output_type": "stream",
     "text": [
      "[[0.01107137]]\n",
      "[[0.99103573]]\n",
      "[[0.99103475]]\n",
      "[[0.0090129]]\n"
     ]
    }
   ],
   "source": [
    "epoch = 500_000\n",
    "layers = [\n",
    "    Layer(df.shape[1], df.shape[1], layer_type=\"hidden_layer\"),\n",
    "    Layer(df.shape[1], 2, layer_type=\"hidden_layer\"),\n",
    "    Layer(2, 1, layer_type=\"output_layer\")\n",
    "]\n",
    "\n",
    "mp = MultilayerPerceptron(layers)\n",
    "t = []\n",
    "\n",
    "random.seed(21)\n",
    "\n",
    "for r in res:\n",
    "    r['input'] = np.array(r['input'], ndmin=2).T\n",
    "    r['output'] = np.array(r['output'], ndmin=1).T\n",
    "    t.append(r)\n",
    "\n",
    "#### TRAIN\n",
    "val_len = len(res) - 1\n",
    "for _ in range(epoch):\n",
    "    i = random.randint(0, val_len)\n",
    "    x, y = t[i].values()\n",
    "    mp.backward_propagation(x, y)\n",
    "\n",
    "print(mp.forward_propagation(t[0]['input']))\n",
    "print(mp.forward_propagation(t[1]['input']))\n",
    "print(mp.forward_propagation(t[2]['input']))\n",
    "print(mp.forward_propagation(t[3]['input']))"
   ]
  }
 ],
 "metadata": {
  "kernelspec": {
   "display_name": "Python 3 (ipykernel)",
   "language": "python",
   "name": "python3"
  },
  "language_info": {
   "codemirror_mode": {
    "name": "ipython",
    "version": 3
   },
   "file_extension": ".py",
   "mimetype": "text/x-python",
   "name": "python",
   "nbconvert_exporter": "python",
   "pygments_lexer": "ipython3",
   "version": "3.9.5"
  }
 },
 "nbformat": 4,
 "nbformat_minor": 5
}
