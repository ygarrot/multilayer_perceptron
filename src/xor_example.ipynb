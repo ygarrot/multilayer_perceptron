{
 "cells": [
  {
   "cell_type": "code",
   "execution_count": 6,
   "id": "18301591-0948-4a87-8fb8-bae22d80146b",
   "metadata": {},
   "outputs": [
    {
     "name": "stdout",
     "output_type": "stream",
     "text": [
      "The autoreload extension is already loaded. To reload it, use:\n",
      "  %reload_ext autoreload\n"
     ]
    }
   ],
   "source": [
    "%load_ext autoreload\n",
    "%autoreload 2\n",
    "import numpy as np\n",
    "from multilayerPerceptron import MultilayerPerceptron, Layer, softmax, relu\n",
    "import random"
   ]
  },
  {
   "cell_type": "code",
   "execution_count": 7,
   "id": "4bb21d05-7fc4-4a25-9b2f-3403e20a8515",
   "metadata": {},
   "outputs": [
    {
     "name": "stdout",
     "output_type": "stream",
     "text": [
      "p:  [[0.00000000e+00 5.91066851e-05 1.65008011e-05 7.56074862e-05]]\n",
      "y:  [[0. 1. 1. 0.]]\n",
      "epoch 0/5 - loss: nan - val_loss: nan\n",
      "p:  [[0.0003932  0.00043809 0.00039652 0.00044985]]\n",
      "y:  [[0. 1. 1. 0.]]\n",
      "epoch 1/5 - loss: -15.566714217221856 - val_loss: -15.566714217221856\n",
      "p:  [[0.00078612 0.00081678 0.00078687 0.0008238 ]]\n",
      "y:  [[0. 1. 1. 0.]]\n",
      "epoch 2/5 - loss: -14.259200182768051 - val_loss: -14.259200182768051\n",
      "p:  [[0.00117877 0.0011952  0.00117877 0.00119748]]\n",
      "y:  [[0. 1. 1. 0.]]\n",
      "epoch 3/5 - loss: -13.475101284454073 - val_loss: -13.475101284454073\n",
      "p:  [[0.00157115 0.00157538 0.00157115 0.00157158]]\n",
      "y:  [[0. 1. 1. 0.]]\n",
      "epoch 4/5 - loss: -12.912349822080417 - val_loss: -12.912349822080417\n",
      "[[0.00196326]]\n",
      "[[0.00196326]]\n",
      "[[0.00196326]]\n",
      "[[0.00196326]]\n"
     ]
    }
   ],
   "source": [
    "res = [\n",
    "    {\n",
    "        \"input\": [0, 0],\n",
    "        \"output\": 0\n",
    "    },\n",
    "    {\n",
    "        \"input\": [0, 1],\n",
    "        \"output\": 1\n",
    "    },\n",
    "    {\n",
    "        \"input\": [1, 0],\n",
    "        \"output\": 1\n",
    "    },\n",
    "    {\n",
    "        \"input\": [1, 1],\n",
    "        \"output\": 0\n",
    "    },\n",
    "]\n",
    "epochs = 500_000\n",
    "epochs = 5\n",
    "layers = [\n",
    "    Layer(2, 2, layer_type=\"input_layer\", activation_function=relu),\n",
    "    Layer(2, 1, layer_type=\"output_layer\")\n",
    "]\n",
    "\n",
    "mp = MultilayerPerceptron(layers)\n",
    "t = []\n",
    "\n",
    "random.seed(21)\n",
    "\n",
    "for r in res:\n",
    "    r['input'] = np.array(r['input'], ndmin=2).T\n",
    "    r['output'] = np.array(r['output'], ndmin=1).T\n",
    "    t.append(r)\n",
    "\n",
    "#### TRAIN\n",
    "val_len = len(res) - 1\n",
    "x = np.array([[0, 0], [0, 1], [1, 0], [1, 1]]).T\n",
    "y = np.array([[0], [1], [1], [0]]).astype(np.float32).T\n",
    "for epoch in range(epochs):\n",
    "    p = mp.backward_propagation(x, y)\n",
    "    print(\"p: \", p)\n",
    "    print(\"y: \", y)\n",
    "    loss = mp.loss(p, y)\n",
    "    print(f\"epoch {epoch}/{epochs} - loss: {loss} - val_loss: {loss}\")\n",
    "\n",
    "\n",
    "print(mp.forward_propagation(t[0]['input']))\n",
    "print(mp.forward_propagation(t[1]['input']))\n",
    "print(mp.forward_propagation(t[2]['input']))\n",
    "print(mp.forward_propagation(t[3]['input']))"
   ]
  },
  {
   "cell_type": "markdown",
   "id": "3d3d7228-fdc7-4b28-9ab5-8c5627be84de",
   "metadata": {},
   "source": [
    "### "
   ]
  }
 ],
 "metadata": {
  "kernelspec": {
   "display_name": "Python 3 (ipykernel)",
   "language": "python",
   "name": "python3"
  },
  "language_info": {
   "codemirror_mode": {
    "name": "ipython",
    "version": 3
   },
   "file_extension": ".py",
   "mimetype": "text/x-python",
   "name": "python",
   "nbconvert_exporter": "python",
   "pygments_lexer": "ipython3",
   "version": "3.9.5"
  }
 },
 "nbformat": 4,
 "nbformat_minor": 5
}
