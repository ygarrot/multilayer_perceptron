{
 "cells": [
  {
   "cell_type": "code",
   "execution_count": 1,
   "id": "18301591-0948-4a87-8fb8-bae22d80146b",
   "metadata": {},
   "outputs": [],
   "source": [
    "import numpy as np\n",
    "from multilayerPerceptron import MultilayerPerceptron, Layer\n",
    "import random"
   ]
  },
  {
   "cell_type": "code",
   "execution_count": 3,
   "id": "f910843f-4528-4a9f-81f9-3801a942f2a7",
   "metadata": {},
   "outputs": [
    {
     "name": "stdout",
     "output_type": "stream",
     "text": [
      "[[0.01107137]]\n",
      "[[0.99103573]]\n",
      "[[0.99103475]]\n",
      "[[0.0090129]]\n"
     ]
    }
   ],
   "source": [
    "res = [\n",
    "    {\n",
    "        \"input\": [0, 0],\n",
    "        \"output\": 0\n",
    "    },\n",
    "    {\n",
    "        \"input\": [0, 1],\n",
    "        \"output\": 1\n",
    "    },\n",
    "    {\n",
    "        \"input\": [1, 0],\n",
    "        \"output\": 1\n",
    "    },\n",
    "    {\n",
    "        \"input\": [1, 1],\n",
    "        \"output\": 0\n",
    "    },\n",
    "]\n",
    "epoch = 500_000\n",
    "layers = [\n",
    "    Layer(2, 2, layer_type=\"input_layer\"),\n",
    "    Layer(2, 1, layer_type=\"output_layer\")\n",
    "]\n",
    "\n",
    "mp = MultilayerPerceptron(layers)\n",
    "t = []\n",
    "\n",
    "random.seed(21)\n",
    "\n",
    "for r in res:\n",
    "    r['input'] = np.array(r['input'], ndmin=2).T\n",
    "    r['output'] = np.array(r['output'], ndmin=1).T\n",
    "    t.append(r)\n",
    "\n",
    "#### TRAIN\n",
    "val_len = len(res) - 1\n",
    "for _ in range(epoch):\n",
    "    i = random.randint(0, val_len)\n",
    "    x, y = t[i].values()\n",
    "    mp.backward_propagation(x, y)\n",
    "\n",
    "print(mp.forward_propagation(t[0]['input']))\n",
    "print(mp.forward_propagation(t[1]['input']))\n",
    "print(mp.forward_propagation(t[2]['input']))\n",
    "print(mp.forward_propagation(t[3]['input']))"
   ]
  },
  {
   "cell_type": "code",
   "execution_count": null,
   "id": "2c17660e-1c9d-46bc-83d1-bda7fc486cb6",
   "metadata": {},
   "outputs": [],
   "source": []
  }
 ],
 "metadata": {
  "kernelspec": {
   "display_name": "Python 3 (ipykernel)",
   "language": "python",
   "name": "python3"
  },
  "language_info": {
   "codemirror_mode": {
    "name": "ipython",
    "version": 3
   },
   "file_extension": ".py",
   "mimetype": "text/x-python",
   "name": "python",
   "nbconvert_exporter": "python",
   "pygments_lexer": "ipython3",
   "version": "3.9.5"
  }
 },
 "nbformat": 4,
 "nbformat_minor": 5
}
