{
 "cells": [
  {
   "cell_type": "code",
   "execution_count": 63,
   "id": "18301591-0948-4a87-8fb8-bae22d80146b",
   "metadata": {},
   "outputs": [
    {
     "name": "stdout",
     "output_type": "stream",
     "text": [
      "The autoreload extension is already loaded. To reload it, use:\n",
      "  %reload_ext autoreload\n"
     ]
    }
   ],
   "source": [
    "%load_ext autoreload\n",
    "%autoreload 2\n",
    "import numpy as np\n",
    "from multilayerPerceptron import MultilayerPerceptron, Layer, softmax, relu\n",
    "import random\n",
    "import pandas as pd"
   ]
  },
  {
   "cell_type": "code",
   "execution_count": 93,
   "id": "a596be74-9add-4bc7-870a-a8cc71c237eb",
   "metadata": {},
   "outputs": [
    {
     "name": "stdout",
     "output_type": "stream",
     "text": [
      "epoch 4999/5000 - loss: 1.5578802430216905 - val_loss: 1.5578802430216905\n"
     ]
    }
   ],
   "source": [
    "data = {\n",
    "    'x_0' :[0, 1, 0, 1],\n",
    "    'x_1' :[0, 0, 1, 1],\n",
    "    'y'   :[0, 1, 1, 0],\n",
    "}\n",
    "epochs = 500_000\n",
    "epochs = 5_000\n",
    "# epochs = 5\n",
    "layers = [\n",
    "    Layer(2, 2, layer_type=\"input_layer\", activation_function=relu),\n",
    "    Layer(2, 1, layer_type=\"output_layer\")\n",
    "]\n",
    "\n",
    "mp = MultilayerPerceptron(layers)\n",
    "t = []\n",
    "\n",
    "random.seed(21)\n",
    "\n",
    "#### TRAIN\n",
    "\n",
    "df = pd.DataFrame(data)\n",
    "for epoch in range(epochs):\n",
    "    x = df[['x_0', 'x_1']].to_numpy(dtype=np.float64)\n",
    "    y = df['y'].to_numpy(dtype=np.float64)\n",
    "    i = random.randint(0, len(x)-1)\n",
    "    loss = mp.loss(p, y)\n",
    "print(f\"epoch {epoch}/{epochs} - loss: {loss} - val_loss: {loss}\")"
   ]
  },
  {
   "cell_type": "code",
   "execution_count": 94,
   "id": "c6f9f41e-58d2-4623-a32f-b695867d44b1",
   "metadata": {},
   "outputs": [
    {
     "name": "stdout",
     "output_type": "stream",
     "text": [
      "[[0.]]\n",
      "[[8.02110033e-05]]\n",
      "[[6.63575458e-05]]\n",
      "[[0.00014657]]\n"
     ]
    }
   ],
   "source": [
    "print(mp.forward_propagation(df[['x_0', 'x_1']].iloc[0].to_numpy()[:,np.newaxis]))\n",
    "print(mp.forward_propagation(df[['x_0', 'x_1']].iloc[1].to_numpy()[:,np.newaxis]))\n",
    "print(mp.forward_propagation(df[['x_0', 'x_1']].iloc[2].to_numpy()[:,np.newaxis]))\n",
    "print(mp.forward_propagation(df[['x_0', 'x_1']].iloc[3].to_numpy()[:,np.newaxis]))"
   ]
  },
  {
   "cell_type": "code",
   "execution_count": null,
   "id": "325627ac-7432-4faf-a435-50d15518b8d3",
   "metadata": {},
   "outputs": [],
   "source": []
  }
 ],
 "metadata": {
  "kernelspec": {
   "display_name": "Python 3 (ipykernel)",
   "language": "python",
   "name": "python3"
  },
  "language_info": {
   "codemirror_mode": {
    "name": "ipython",
    "version": 3
   },
   "file_extension": ".py",
   "mimetype": "text/x-python",
   "name": "python",
   "nbconvert_exporter": "python",
   "pygments_lexer": "ipython3",
   "version": "3.9.5"
  }
 },
 "nbformat": 4,
 "nbformat_minor": 5
}
